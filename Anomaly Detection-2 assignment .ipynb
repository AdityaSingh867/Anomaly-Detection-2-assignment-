{
 "cells": [
  {
   "cell_type": "markdown",
   "id": "2e549a33-30de-4adb-9f4d-4ff03c681ac7",
   "metadata": {},
   "source": [
    "Q1. What is the role of feature selection in anomaly detection?"
   ]
  },
  {
   "cell_type": "markdown",
   "id": "9e558cdc-39d0-4bce-ba8b-0979ca2cafd1",
   "metadata": {},
   "source": [
    " improve outlier detection in terms of identifying noisy data that contain irrelevant or redundant features"
   ]
  },
  {
   "cell_type": "markdown",
   "id": "9d576ff3-38f5-4f49-9d4e-dc8f17fdb944",
   "metadata": {},
   "source": [
    "Q2. What are some common evaluation metrics for anomaly detection algorithms and how are they\n",
    "computed?"
   ]
  },
  {
   "cell_type": "markdown",
   "id": "403ed5b9-18fd-4d41-b6af-58bdc0ead961",
   "metadata": {},
   "source": [
    "- Recall\n",
    "- Precision\n",
    "- f1 score"
   ]
  },
  {
   "cell_type": "markdown",
   "id": "259f0586-7c0b-4e3e-a390-bb4baefffa7e",
   "metadata": {},
   "source": [
    "Q3. What is DBSCAN and how does it work for clustering?"
   ]
  },
  {
   "cell_type": "markdown",
   "id": "249a72c1-88a8-4474-85e7-f3637cc294ee",
   "metadata": {},
   "source": [
    " a density-based clustering algorithm that works on the assumption that clusters are dense regions in space separated by regions of lower density."
   ]
  },
  {
   "cell_type": "markdown",
   "id": "e6429313-79fa-4812-b541-558b8e5563a7",
   "metadata": {},
   "source": [
    "Q4. How does the epsilon parameter affect the performance of DBSCAN in detecting anomalies?"
   ]
  },
  {
   "cell_type": "markdown",
   "id": "38eb31c0-7143-4e20-aa0f-eaf721711088",
   "metadata": {},
   "source": [
    "epsilon parameter is very important parameter for DBSCAN because it is a radius of each data point so , if there minimum four data points that comes inside the epsilon radius so that point that have a radius that point is called core point "
   ]
  },
  {
   "cell_type": "markdown",
   "id": "c7495509-fb5f-44dd-80b8-62b6efb64fd6",
   "metadata": {},
   "source": [
    "Q5. What are the differences between the core, border, and noise points in DBSCAN, and how do they relate\n",
    "to anomaly detection?"
   ]
  },
  {
   "cell_type": "markdown",
   "id": "e8944c3b-5123-4277-ab49-0107ff77706d",
   "metadata": {},
   "source": [
    "core point like a data points in any dataset , and border is also a datapoint in the dataset but noise is a outliers in the dataset , so it is really helps in anomaly detection because anomaly detection detect outliers in the dataset."
   ]
  },
  {
   "cell_type": "markdown",
   "id": "fd95cfdf-1810-4124-a464-7304f13254b3",
   "metadata": {},
   "source": [
    "Q6. How does DBSCAN detect anomalies and what are the key parameters involved in the process?"
   ]
  },
  {
   "cell_type": "markdown",
   "id": "6b290c21-b063-44ef-aea8-537a5d2675f6",
   "metadata": {},
   "source": [
    "DBSCAN is a density-based clustering algorithm that can be used for anomaly detection. It works by grouping together points that are closely packed together , marking as outliers points that lie alone in low-density regions.\n",
    "\n",
    "the parameters involved in \n",
    "\n",
    "- eps \n",
    "- min_samples\n",
    "- metric \n",
    "- metric_params\n",
    "- algorithm \n",
    "- leaf_size n_jobs"
   ]
  },
  {
   "cell_type": "markdown",
   "id": "32b267e5-f7e7-4244-81a7-3f86164ef03d",
   "metadata": {},
   "source": [
    "Q7. What is the make_circles package in scikit-learn used for?"
   ]
  },
  {
   "cell_type": "markdown",
   "id": "2660d037-9bdf-4960-a49b-9d70a9330fe2",
   "metadata": {},
   "source": [
    "Make a large circle containing a smaller circle in 2d.\n",
    "\n",
    "A simple toy dataset to visualize clustering and classification algorithms"
   ]
  },
  {
   "cell_type": "markdown",
   "id": "2f6d798d-b763-48c4-97cc-3531ac99c3a0",
   "metadata": {},
   "source": [
    "Q8. What are local outliers and global outliers, and how do they differ from each other?"
   ]
  },
  {
   "cell_type": "markdown",
   "id": "63192cba-b4b5-4da7-8d1f-998ae3ca0a38",
   "metadata": {},
   "source": [
    "Local outliers is that type of outliers those are close to group of any cluster , many datapoints \n",
    "\n",
    "Global outliers is that type of outliers those are far to all group of all clusters , many datapoints"
   ]
  },
  {
   "cell_type": "markdown",
   "id": "f8b1192a-e853-41da-a991-5c099b51e64a",
   "metadata": {},
   "source": [
    "Q9. How can local outliers be detected using the Local Outlier Factor (LOF) algorithm?"
   ]
  },
  {
   "cell_type": "markdown",
   "id": "da0a278e-8c99-46cb-9406-a00cca69cf9b",
   "metadata": {},
   "source": [
    "computes the local density deviation of a given data point with respect to its neighbors"
   ]
  },
  {
   "cell_type": "markdown",
   "id": "94a22afa-9bcf-4a06-af7b-81550cde1be1",
   "metadata": {},
   "source": [
    "Q10. How can global outliers be detected using the Isolation Forest algorithm?"
   ]
  },
  {
   "cell_type": "markdown",
   "id": "999fde9d-ccac-4bc7-9e13-d12cdcb14fb9",
   "metadata": {},
   "source": [
    "randomly selecting a feature from the given set of features and then randomly selecting a split value between the max and min values of that feature."
   ]
  },
  {
   "cell_type": "markdown",
   "id": "2ffb8330-d3bf-4337-bbd2-8467de3b5f48",
   "metadata": {},
   "source": [
    "Q11. What are some real-world applications where local outlier detection is more appropriate than global\n",
    "outlier detection, and vice versa?"
   ]
  },
  {
   "cell_type": "markdown",
   "id": "c613b240-8069-47ac-b21f-0f7e56fcc9fb",
   "metadata": {},
   "source": [
    " In healthcare, global outlier detection can be valuable for identifying rare medical conditions or outliers that affect a large population. For example, in epidemiology, global outlier detection can help identify regions with unusually high disease prevalence, enabling targeted interventions."
   ]
  },
  {
   "cell_type": "markdown",
   "id": "2aa3e489-e86e-4293-b8b1-cad2509881c8",
   "metadata": {},
   "source": [
    " real-world applications where local outlier detection may be more appropriate include fraud detection, network intrusion detection, and quality control in manufacturing plants."
   ]
  }
 ],
 "metadata": {
  "kernelspec": {
   "display_name": "Python 3 (ipykernel)",
   "language": "python",
   "name": "python3"
  },
  "language_info": {
   "codemirror_mode": {
    "name": "ipython",
    "version": 3
   },
   "file_extension": ".py",
   "mimetype": "text/x-python",
   "name": "python",
   "nbconvert_exporter": "python",
   "pygments_lexer": "ipython3",
   "version": "3.10.8"
  }
 },
 "nbformat": 4,
 "nbformat_minor": 5
}
